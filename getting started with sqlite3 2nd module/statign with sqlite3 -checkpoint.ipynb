{
 "cells": [
  {
   "cell_type": "code",
   "execution_count": 11,
   "id": "870a4bf1-04d8-4dc3-9b15-81040338ef81",
   "metadata": {},
   "outputs": [],
   "source": [
    "import sqlite3"
   ]
  },
  {
   "cell_type": "code",
   "execution_count": 15,
   "id": "ac16a348-e119-45b8-8067-232f60a4f148",
   "metadata": {},
   "outputs": [
    {
     "data": {
      "text/plain": [
       "<sqlite3.Connection at 0x1b3c52ddb70>"
      ]
     },
     "execution_count": 15,
     "metadata": {},
     "output_type": "execute_result"
    }
   ],
   "source": [
    "connection=sqlite3.connect(\"Example.db\")\n",
    "connection"
   ]
  },
  {
   "cell_type": "code",
   "execution_count": 19,
   "id": "7e70a33d-de31-4e24-b2fa-f4a225c9e33c",
   "metadata": {},
   "outputs": [],
   "source": [
    "cursor=connection.cursor()"
   ]
  },
  {
   "cell_type": "code",
   "execution_count": 27,
   "id": "e9d0173f-a4f0-459d-964a-d514b4265ea9",
   "metadata": {},
   "outputs": [],
   "source": [
    "cursor.execute('''\n",
    "Create Table If Not Exists Emoloyee(\n",
    "Id Integer Primary Key,\n",
    "Name Text Not null,\n",
    "Age Integer,\n",
    "Department Text\n",
    "\n",
    ")\n",
    "''')\n",
    "connection.commit()"
   ]
  },
  {
   "cell_type": "code",
   "execution_count": 35,
   "id": "15037b1a-4893-492e-bcf6-d7bbaa9d596d",
   "metadata": {},
   "outputs": [
    {
     "data": {
      "text/plain": [
       "<sqlite3.Cursor at 0x1b3c5328040>"
      ]
     },
     "execution_count": 35,
     "metadata": {},
     "output_type": "execute_result"
    }
   ],
   "source": [
    "cursor.execute('''\n",
    "select * from Emoloyee\n",
    "''')"
   ]
  },
  {
   "cell_type": "code",
   "execution_count": 45,
   "id": "4a9cfd17-2b72-4967-882e-64203fe0330b",
   "metadata": {},
   "outputs": [],
   "source": [
    "cursor.execute('''\n",
    "Insert into Emoloyee(Name,Age,Department)\n",
    "values(\"sandeep\",20,\"data Analytics\")\n",
    "''')\n",
    "cursor.execute('''\n",
    "Insert Into Emoloyee(Name,Age,Department)\n",
    "values(\"neha\",19,\"data engineer\")\n",
    "''')\n",
    "cursor.execute('''\n",
    "Insert Into Emoloyee(Name,Age,Department)\n",
    "values(\"rahul\",18,\"data Scientist\")\n",
    "''')\n",
    "connection.commit()"
   ]
  },
  {
   "cell_type": "code",
   "execution_count": 49,
   "id": "6ed6d5d0-b874-448b-9b99-525dafd058db",
   "metadata": {},
   "outputs": [
    {
     "data": {
      "text/plain": [
       "<sqlite3.Cursor at 0x1b3c5328040>"
      ]
     },
     "execution_count": 49,
     "metadata": {},
     "output_type": "execute_result"
    }
   ],
   "source": [
    "cursor.execute('''\n",
    "select * from Emoloyee\n",
    "''')"
   ]
  },
  {
   "cell_type": "code",
   "execution_count": 55,
   "id": "387da74a-a3a7-41ea-9838-37bffe734a75",
   "metadata": {},
   "outputs": [
    {
     "name": "stdout",
     "output_type": "stream",
     "text": [
      "(1, 'sandeep', 20, 'data Analytics')\n",
      "(2, 'neha', 19, 'data engineer')\n",
      "(3, 'rahul', 18, 'data Scientist')\n"
     ]
    }
   ],
   "source": [
    "cursor.execute('''\n",
    "select * from Emoloyee\n",
    "''')\n",
    "rows=cursor.fetchall()\n",
    "for row in rows:\n",
    "    print(row)"
   ]
  }
 ],
 "metadata": {
  "kernelspec": {
   "display_name": "Python 3 (ipykernel)",
   "language": "python",
   "name": "python3"
  },
  "language_info": {
   "codemirror_mode": {
    "name": "ipython",
    "version": 3
   },
   "file_extension": ".py",
   "mimetype": "text/x-python",
   "name": "python",
   "nbconvert_exporter": "python",
   "pygments_lexer": "ipython3",
   "version": "3.12.7"
  }
 },
 "nbformat": 4,
 "nbformat_minor": 5
}
